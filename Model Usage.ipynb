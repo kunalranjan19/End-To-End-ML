{
 "cells": [
  {
   "cell_type": "code",
   "execution_count": 1,
   "id": "ca89e6bf-9642-4f58-ae46-dae48420e563",
   "metadata": {},
   "outputs": [],
   "source": [
    "from joblib import dump,load\n",
    "import numpy as np\n",
    "model=load('real.joblib')"
   ]
  },
  {
   "cell_type": "code",
   "execution_count": 7,
   "id": "cf2d8efd-cf39-4422-9a73-8b02181a133d",
   "metadata": {},
   "outputs": [
    {
     "data": {
      "text/plain": [
       "array([20.125])"
      ]
     },
     "execution_count": 7,
     "metadata": {},
     "output_type": "execute_result"
    }
   ],
   "source": [
    "features=np.array([[-0.44241248,  8.18716752, -3.12581552, -11.27288841, -1.42038605,\n",
    "       -0.54974005, -13.7412613 ,  10.56284386, -0.99534776, -0.57387797,\n",
    "       -0.99428207,  0.43852974, -0.49833679]])\n",
    "model.predict(features)"
   ]
  },
  {
   "cell_type": "code",
   "execution_count": null,
   "id": "21324524-6131-4c98-92e1-2a40683682ba",
   "metadata": {},
   "outputs": [],
   "source": [
    "\n"
   ]
  }
 ],
 "metadata": {
  "kernelspec": {
   "display_name": "Python 3 (ipykernel)",
   "language": "python",
   "name": "python3"
  },
  "language_info": {
   "codemirror_mode": {
    "name": "ipython",
    "version": 3
   },
   "file_extension": ".py",
   "mimetype": "text/x-python",
   "name": "python",
   "nbconvert_exporter": "python",
   "pygments_lexer": "ipython3",
   "version": "3.10.1"
  }
 },
 "nbformat": 4,
 "nbformat_minor": 5
}
